{
 "cells": [
  {
   "cell_type": "code",
   "execution_count": 21,
   "metadata": {},
   "outputs": [],
   "source": [
    "import os\n",
    "from PIL import Image"
   ]
  },
  {
   "cell_type": "markdown",
   "metadata": {},
   "source": [
    "change path and pos or neg string to rename face and notface"
   ]
  },
  {
   "cell_type": "code",
   "execution_count": 54,
   "metadata": {},
   "outputs": [
    {
     "name": "stdout",
     "output_type": "stream",
     "text": [
      "error file was\n",
      "._EDWIN JOSE CHITTILAPPILLY4.jpg\n"
     ]
    }
   ],
   "source": [
    "path=\"/home/ej/dataset/face\"\n",
    "i=1\n",
    "for file in os.listdir(path):    \n",
    "    try:\n",
    "        im=Image.open(os.path.join(path,file))\n",
    "        im.verify();\n",
    "        os.rename(os.path.join(path,file),os.path.join(path,str(i)+\"face.jpg\"))\n",
    "        i=i+1;\n",
    "    # do stuff\n",
    "    except (IOError, SyntaxError) as e:\n",
    "    # filename not an image file\n",
    "        print(\"error file was\")\n",
    "        print(file)\n",
    "        os.remove(os.path.join(path,file))"
   ]
  },
  {
   "cell_type": "code",
   "execution_count": 42,
   "metadata": {},
   "outputs": [],
   "source": [
    "##just renmae\n",
    "path=\"/home/ej/dataset/face\"\n",
    "i=1\n",
    "for file in os.listdir(path):    \n",
    "        os.rename(os.path.join(path,file),os.path.join(path,str(i)+\"pos.jpg\"))\n",
    "        i=i+1;"
   ]
  },
  {
   "cell_type": "code",
   "execution_count": 55,
   "metadata": {},
   "outputs": [],
   "source": [
    "f=os.listdir(\"/home/ej/dataset/face\")"
   ]
  },
  {
   "cell_type": "code",
   "execution_count": 56,
   "metadata": {},
   "outputs": [
    {
     "data": {
      "text/plain": [
       "8082"
      ]
     },
     "execution_count": 56,
     "metadata": {},
     "output_type": "execute_result"
    }
   ],
   "source": [
    "len(f)"
   ]
  },
  {
   "cell_type": "code",
   "execution_count": 52,
   "metadata": {},
   "outputs": [],
   "source": [
    "nf=os.listdir(\"/home/ej/dataset/notface\")"
   ]
  },
  {
   "cell_type": "code",
   "execution_count": 53,
   "metadata": {},
   "outputs": [
    {
     "data": {
      "text/plain": [
       "7867"
      ]
     },
     "execution_count": 53,
     "metadata": {},
     "output_type": "execute_result"
    }
   ],
   "source": [
    "len(nf)"
   ]
  },
  {
   "cell_type": "code",
   "execution_count": null,
   "metadata": {},
   "outputs": [],
   "source": []
  }
 ],
 "metadata": {
  "kernelspec": {
   "display_name": "Python 3",
   "language": "python",
   "name": "python3"
  },
  "language_info": {
   "codemirror_mode": {
    "name": "ipython",
    "version": 3
   },
   "file_extension": ".py",
   "mimetype": "text/x-python",
   "name": "python",
   "nbconvert_exporter": "python",
   "pygments_lexer": "ipython3",
   "version": "3.5.6"
  }
 },
 "nbformat": 4,
 "nbformat_minor": 2
}
