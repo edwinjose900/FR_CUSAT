{
 "cells": [
  {
   "cell_type": "code",
   "execution_count": 1,
   "metadata": {},
   "outputs": [],
   "source": [
    "import os"
   ]
  },
  {
   "cell_type": "code",
   "execution_count": 2,
   "metadata": {},
   "outputs": [
    {
     "data": {
      "text/plain": [
       "['.ipynb_checkpoints',\n",
       " 'Aparna',\n",
       " 'apj',\n",
       " 'edwin',\n",
       " 'EDWIN JOSE CHITTILAPPILLY',\n",
       " 'GREESHMA MANIKANDAN',\n",
       " 'Untitled.ipynb']"
      ]
     },
     "execution_count": 2,
     "metadata": {},
     "output_type": "execute_result"
    }
   ],
   "source": [
    "os.listdir()"
   ]
  },
  {
   "cell_type": "code",
   "execution_count": 8,
   "metadata": {},
   "outputs": [
    {
     "data": {
      "text/plain": [
       "['GREESHMA MANIKANDAN1.jpg',\n",
       " 'GREESHMA MANIKANDAN10.jpg',\n",
       " 'GREESHMA MANIKANDAN11.jpg',\n",
       " 'GREESHMA MANIKANDAN12.jpg',\n",
       " 'GREESHMA MANIKANDAN13.jpg',\n",
       " 'GREESHMA MANIKANDAN14.jpg',\n",
       " 'GREESHMA MANIKANDAN15.jpg',\n",
       " 'GREESHMA MANIKANDAN16.jpg',\n",
       " 'GREESHMA MANIKANDAN17.jpg',\n",
       " 'GREESHMA MANIKANDAN18.jpg',\n",
       " 'GREESHMA MANIKANDAN19.jpg',\n",
       " 'GREESHMA MANIKANDAN2.jpg',\n",
       " 'GREESHMA MANIKANDAN20.jpg',\n",
       " 'GREESHMA MANIKANDAN3.jpg',\n",
       " 'GREESHMA MANIKANDAN4.jpg',\n",
       " 'GREESHMA MANIKANDAN5.jpg',\n",
       " 'GREESHMA MANIKANDAN6.jpg',\n",
       " 'GREESHMA MANIKANDAN7.jpg',\n",
       " 'GREESHMA MANIKANDAN8.jpg',\n",
       " 'GREESHMA MANIKANDAN9.jpg']"
      ]
     },
     "execution_count": 8,
     "metadata": {},
     "output_type": "execute_result"
    }
   ],
   "source": [
    "my_dir = \"GREESHMA MANIKANDAN/\"# enter the dir name\n",
    "for fname in os.listdir(my_dir):\n",
    "    if fname.startswith(\"._\"):\n",
    "        os.remove(os.path.join(my_dir, fname))\n",
    "os.listdir(my_dir)"
   ]
  },
  {
   "cell_type": "code",
   "execution_count": null,
   "metadata": {},
   "outputs": [],
   "source": []
  }
 ],
 "metadata": {
  "kernelspec": {
   "display_name": "Python 3",
   "language": "python",
   "name": "python3"
  },
  "language_info": {
   "codemirror_mode": {
    "name": "ipython",
    "version": 3
   },
   "file_extension": ".py",
   "mimetype": "text/x-python",
   "name": "python",
   "nbconvert_exporter": "python",
   "pygments_lexer": "ipython3",
   "version": "3.6.6"
  }
 },
 "nbformat": 4,
 "nbformat_minor": 2
}
